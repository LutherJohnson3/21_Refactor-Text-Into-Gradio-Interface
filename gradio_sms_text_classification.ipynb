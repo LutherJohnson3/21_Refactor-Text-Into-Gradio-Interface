{
 "cells": [
  {
   "cell_type": "code",
   "execution_count": 1,
   "metadata": {
    "colab": {
     "base_uri": "https://localhost:8080/"
    },
    "executionInfo": {
     "elapsed": 3232,
     "status": "ok",
     "timestamp": 1742764837740,
     "user": {
      "displayName": "Luther Johnson",
      "userId": "12755746295002197242"
     },
     "user_tz": 300
    },
    "id": "ICtzCfRjvvEh",
    "outputId": "f1eee81a-c4b7-4545-f3d2-279f4385bde2"
   },
   "outputs": [
    {
     "name": "stdout",
     "output_type": "stream",
     "text": [
      "Collecting gradio\n",
      "  Downloading gradio-5.22.0-py3-none-any.whl.metadata (16 kB)\n",
      "Collecting aiofiles<24.0,>=22.0 (from gradio)\n",
      "  Downloading aiofiles-23.2.1-py3-none-any.whl.metadata (9.7 kB)\n",
      "Requirement already satisfied: anyio<5.0,>=3.0 in c:\\users\\owner\\anaconda3\\lib\\site-packages (from gradio) (4.2.0)\n",
      "Collecting fastapi<1.0,>=0.115.2 (from gradio)\n",
      "  Downloading fastapi-0.115.11-py3-none-any.whl.metadata (27 kB)\n",
      "Collecting ffmpy (from gradio)\n",
      "  Downloading ffmpy-0.5.0-py3-none-any.whl.metadata (3.0 kB)\n",
      "Collecting gradio-client==1.8.0 (from gradio)\n",
      "  Downloading gradio_client-1.8.0-py3-none-any.whl.metadata (7.1 kB)\n",
      "Collecting groovy~=0.1 (from gradio)\n",
      "  Downloading groovy-0.1.2-py3-none-any.whl.metadata (6.1 kB)\n",
      "Requirement already satisfied: httpx>=0.24.1 in c:\\users\\owner\\anaconda3\\lib\\site-packages (from gradio) (0.27.0)\n",
      "Collecting huggingface-hub>=0.28.1 (from gradio)\n",
      "  Downloading huggingface_hub-0.29.3-py3-none-any.whl.metadata (13 kB)\n",
      "Requirement already satisfied: jinja2<4.0 in c:\\users\\owner\\anaconda3\\lib\\site-packages (from gradio) (3.1.4)\n",
      "Requirement already satisfied: markupsafe<4.0,>=2.0 in c:\\users\\owner\\anaconda3\\lib\\site-packages (from gradio) (2.1.3)\n",
      "Requirement already satisfied: numpy<3.0,>=1.0 in c:\\users\\owner\\anaconda3\\lib\\site-packages (from gradio) (1.26.4)\n",
      "Collecting orjson~=3.0 (from gradio)\n",
      "  Downloading orjson-3.10.15-cp312-cp312-win_amd64.whl.metadata (42 kB)\n",
      "     ---------------------------------------- 0.0/42.9 kB ? eta -:--:--\n",
      "     ---------------------------------------- 42.9/42.9 kB 2.2 MB/s eta 0:00:00\n",
      "Requirement already satisfied: packaging in c:\\users\\owner\\anaconda3\\lib\\site-packages (from gradio) (23.2)\n",
      "Requirement already satisfied: pandas<3.0,>=1.0 in c:\\users\\owner\\anaconda3\\lib\\site-packages (from gradio) (2.2.2)\n",
      "Requirement already satisfied: pillow<12.0,>=8.0 in c:\\users\\owner\\anaconda3\\lib\\site-packages (from gradio) (10.3.0)\n",
      "Requirement already satisfied: pydantic>=2.0 in c:\\users\\owner\\anaconda3\\lib\\site-packages (from gradio) (2.5.3)\n",
      "Collecting pydub (from gradio)\n",
      "  Downloading pydub-0.25.1-py2.py3-none-any.whl.metadata (1.4 kB)\n",
      "Collecting python-multipart>=0.0.18 (from gradio)\n",
      "  Downloading python_multipart-0.0.20-py3-none-any.whl.metadata (1.8 kB)\n",
      "Requirement already satisfied: pyyaml<7.0,>=5.0 in c:\\users\\owner\\anaconda3\\lib\\site-packages (from gradio) (6.0.1)\n",
      "Collecting ruff>=0.9.3 (from gradio)\n",
      "  Downloading ruff-0.11.2-py3-none-win_amd64.whl.metadata (26 kB)\n",
      "Collecting safehttpx<0.2.0,>=0.1.6 (from gradio)\n",
      "  Downloading safehttpx-0.1.6-py3-none-any.whl.metadata (4.2 kB)\n",
      "Collecting semantic-version~=2.0 (from gradio)\n",
      "  Downloading semantic_version-2.10.0-py2.py3-none-any.whl.metadata (9.7 kB)\n",
      "Collecting starlette<1.0,>=0.40.0 (from gradio)\n",
      "  Downloading starlette-0.46.1-py3-none-any.whl.metadata (6.2 kB)\n",
      "Collecting tomlkit<0.14.0,>=0.12.0 (from gradio)\n",
      "  Downloading tomlkit-0.13.2-py3-none-any.whl.metadata (2.7 kB)\n",
      "Collecting typer<1.0,>=0.12 (from gradio)\n",
      "  Downloading typer-0.15.2-py3-none-any.whl.metadata (15 kB)\n",
      "Requirement already satisfied: typing-extensions~=4.0 in c:\\users\\owner\\anaconda3\\lib\\site-packages (from gradio) (4.11.0)\n",
      "Collecting uvicorn>=0.14.0 (from gradio)\n",
      "  Downloading uvicorn-0.34.0-py3-none-any.whl.metadata (6.5 kB)\n",
      "Requirement already satisfied: fsspec in c:\\users\\owner\\anaconda3\\lib\\site-packages (from gradio-client==1.8.0->gradio) (2024.3.1)\n",
      "Collecting websockets<16.0,>=10.0 (from gradio-client==1.8.0->gradio)\n",
      "  Downloading websockets-15.0.1-cp312-cp312-win_amd64.whl.metadata (7.0 kB)\n",
      "Requirement already satisfied: idna>=2.8 in c:\\users\\owner\\anaconda3\\lib\\site-packages (from anyio<5.0,>=3.0->gradio) (3.7)\n",
      "Requirement already satisfied: sniffio>=1.1 in c:\\users\\owner\\anaconda3\\lib\\site-packages (from anyio<5.0,>=3.0->gradio) (1.3.0)\n",
      "Requirement already satisfied: certifi in c:\\users\\owner\\anaconda3\\lib\\site-packages (from httpx>=0.24.1->gradio) (2024.8.30)\n",
      "Requirement already satisfied: httpcore==1.* in c:\\users\\owner\\anaconda3\\lib\\site-packages (from httpx>=0.24.1->gradio) (1.0.2)\n",
      "Requirement already satisfied: h11<0.15,>=0.13 in c:\\users\\owner\\anaconda3\\lib\\site-packages (from httpcore==1.*->httpx>=0.24.1->gradio) (0.14.0)\n",
      "Requirement already satisfied: filelock in c:\\users\\owner\\anaconda3\\lib\\site-packages (from huggingface-hub>=0.28.1->gradio) (3.13.1)\n",
      "Requirement already satisfied: requests in c:\\users\\owner\\anaconda3\\lib\\site-packages (from huggingface-hub>=0.28.1->gradio) (2.32.2)\n",
      "Requirement already satisfied: tqdm>=4.42.1 in c:\\users\\owner\\anaconda3\\lib\\site-packages (from huggingface-hub>=0.28.1->gradio) (4.66.4)\n",
      "Requirement already satisfied: python-dateutil>=2.8.2 in c:\\users\\owner\\anaconda3\\lib\\site-packages (from pandas<3.0,>=1.0->gradio) (2.9.0.post0)\n",
      "Requirement already satisfied: pytz>=2020.1 in c:\\users\\owner\\anaconda3\\lib\\site-packages (from pandas<3.0,>=1.0->gradio) (2024.1)\n",
      "Requirement already satisfied: tzdata>=2022.7 in c:\\users\\owner\\anaconda3\\lib\\site-packages (from pandas<3.0,>=1.0->gradio) (2023.3)\n",
      "Requirement already satisfied: annotated-types>=0.4.0 in c:\\users\\owner\\anaconda3\\lib\\site-packages (from pydantic>=2.0->gradio) (0.6.0)\n",
      "Requirement already satisfied: pydantic-core==2.14.6 in c:\\users\\owner\\anaconda3\\lib\\site-packages (from pydantic>=2.0->gradio) (2.14.6)\n",
      "Requirement already satisfied: click>=8.0.0 in c:\\users\\owner\\anaconda3\\lib\\site-packages (from typer<1.0,>=0.12->gradio) (8.1.7)\n",
      "Collecting shellingham>=1.3.0 (from typer<1.0,>=0.12->gradio)\n",
      "  Downloading shellingham-1.5.4-py2.py3-none-any.whl.metadata (3.5 kB)\n",
      "Requirement already satisfied: rich>=10.11.0 in c:\\users\\owner\\anaconda3\\lib\\site-packages (from typer<1.0,>=0.12->gradio) (13.3.5)\n",
      "Requirement already satisfied: colorama in c:\\users\\owner\\anaconda3\\lib\\site-packages (from click>=8.0.0->typer<1.0,>=0.12->gradio) (0.4.6)\n",
      "Requirement already satisfied: six>=1.5 in c:\\users\\owner\\anaconda3\\lib\\site-packages (from python-dateutil>=2.8.2->pandas<3.0,>=1.0->gradio) (1.16.0)\n",
      "Requirement already satisfied: markdown-it-py<3.0.0,>=2.2.0 in c:\\users\\owner\\anaconda3\\lib\\site-packages (from rich>=10.11.0->typer<1.0,>=0.12->gradio) (2.2.0)\n",
      "Requirement already satisfied: pygments<3.0.0,>=2.13.0 in c:\\users\\owner\\anaconda3\\lib\\site-packages (from rich>=10.11.0->typer<1.0,>=0.12->gradio) (2.15.1)\n",
      "Requirement already satisfied: charset-normalizer<4,>=2 in c:\\users\\owner\\anaconda3\\lib\\site-packages (from requests->huggingface-hub>=0.28.1->gradio) (2.0.4)\n",
      "Requirement already satisfied: urllib3<3,>=1.21.1 in c:\\users\\owner\\anaconda3\\lib\\site-packages (from requests->huggingface-hub>=0.28.1->gradio) (2.2.2)\n",
      "Requirement already satisfied: mdurl~=0.1 in c:\\users\\owner\\anaconda3\\lib\\site-packages (from markdown-it-py<3.0.0,>=2.2.0->rich>=10.11.0->typer<1.0,>=0.12->gradio) (0.1.0)\n",
      "Downloading gradio-5.22.0-py3-none-any.whl (46.2 MB)\n",
      "   ---------------------------------------- 0.0/46.2 MB ? eta -:--:--\n",
      "   ---------------------------------------- 0.2/46.2 MB 3.7 MB/s eta 0:00:13\n",
      "   ---------------------------------------- 0.3/46.2 MB 4.2 MB/s eta 0:00:11\n",
      "   ---------------------------------------- 0.6/46.2 MB 4.4 MB/s eta 0:00:11\n",
      "    --------------------------------------- 0.9/46.2 MB 4.5 MB/s eta 0:00:11\n",
      "    --------------------------------------- 1.1/46.2 MB 5.1 MB/s eta 0:00:09\n",
      "   - -------------------------------------- 1.5/46.2 MB 5.5 MB/s eta 0:00:09\n",
      "   - -------------------------------------- 1.7/46.2 MB 5.3 MB/s eta 0:00:09\n",
      "   - -------------------------------------- 2.0/46.2 MB 5.3 MB/s eta 0:00:09\n",
      "   -- ------------------------------------- 2.3/46.2 MB 5.7 MB/s eta 0:00:08\n",
      "   -- ------------------------------------- 2.8/46.2 MB 6.1 MB/s eta 0:00:08\n",
      "   -- ------------------------------------- 3.1/46.2 MB 6.2 MB/s eta 0:00:07\n",
      "   -- ------------------------------------- 3.4/46.2 MB 6.1 MB/s eta 0:00:07\n",
      "   --- ------------------------------------ 4.0/46.2 MB 6.7 MB/s eta 0:00:07\n",
      "   --- ------------------------------------ 4.6/46.2 MB 7.1 MB/s eta 0:00:06\n",
      "   ---- ----------------------------------- 5.3/46.2 MB 7.7 MB/s eta 0:00:06\n",
      "   ----- ---------------------------------- 6.1/46.2 MB 8.3 MB/s eta 0:00:05\n",
      "   ----- ---------------------------------- 6.6/46.2 MB 8.4 MB/s eta 0:00:05\n",
      "   ------ --------------------------------- 7.3/46.2 MB 9.0 MB/s eta 0:00:05\n",
      "   ------- -------------------------------- 8.4/46.2 MB 9.8 MB/s eta 0:00:04\n",
      "   -------- ------------------------------- 9.6/46.2 MB 10.4 MB/s eta 0:00:04\n",
      "   --------- ------------------------------ 11.2/46.2 MB 13.4 MB/s eta 0:00:03\n",
      "   ---------- ----------------------------- 12.5/46.2 MB 17.3 MB/s eta 0:00:02\n",
      "   ----------- ---------------------------- 13.0/46.2 MB 17.2 MB/s eta 0:00:02\n",
      "   ----------- ---------------------------- 13.1/46.2 MB 17.2 MB/s eta 0:00:02\n",
      "   ----------- ---------------------------- 13.1/46.2 MB 16.0 MB/s eta 0:00:03\n",
      "   ----------- ---------------------------- 13.4/46.2 MB 15.6 MB/s eta 0:00:03\n",
      "   ----------- ---------------------------- 13.4/46.2 MB 14.6 MB/s eta 0:00:03\n",
      "   ----------- ---------------------------- 13.4/46.2 MB 13.6 MB/s eta 0:00:03\n",
      "   ----------- ---------------------------- 13.5/46.2 MB 13.1 MB/s eta 0:00:03\n",
      "   ----------- ---------------------------- 13.5/46.2 MB 12.1 MB/s eta 0:00:03\n",
      "   ------------ --------------------------- 13.9/46.2 MB 12.1 MB/s eta 0:00:03\n",
      "   ------------ --------------------------- 14.5/46.2 MB 12.1 MB/s eta 0:00:03\n",
      "   ------------- -------------------------- 15.3/46.2 MB 12.1 MB/s eta 0:00:03\n",
      "   ------------- -------------------------- 16.0/46.2 MB 12.4 MB/s eta 0:00:03\n",
      "   -------------- ------------------------- 16.9/46.2 MB 11.9 MB/s eta 0:00:03\n",
      "   --------------- ------------------------ 17.5/46.2 MB 11.7 MB/s eta 0:00:03\n",
      "   --------------- ------------------------ 17.6/46.2 MB 10.9 MB/s eta 0:00:03\n",
      "   --------------- ------------------------ 18.1/46.2 MB 10.7 MB/s eta 0:00:03\n",
      "   ---------------- ----------------------- 18.7/46.2 MB 10.4 MB/s eta 0:00:03\n",
      "   ---------------- ----------------------- 19.6/46.2 MB 10.4 MB/s eta 0:00:03\n",
      "   ----------------- ---------------------- 20.6/46.2 MB 10.2 MB/s eta 0:00:03\n",
      "   ------------------ --------------------- 21.5/46.2 MB 10.1 MB/s eta 0:00:03\n",
      "   ------------------- -------------------- 22.4/46.2 MB 9.8 MB/s eta 0:00:03\n",
      "   -------------------- ------------------- 23.2/46.2 MB 9.9 MB/s eta 0:00:03\n",
      "   -------------------- ------------------- 24.2/46.2 MB 14.6 MB/s eta 0:00:02\n",
      "   --------------------- ------------------ 25.1/46.2 MB 15.2 MB/s eta 0:00:02\n",
      "   ---------------------- ----------------- 26.0/46.2 MB 15.2 MB/s eta 0:00:02\n",
      "   ----------------------- ---------------- 27.0/46.2 MB 15.6 MB/s eta 0:00:02\n",
      "   ----------------------- ---------------- 27.6/46.2 MB 16.0 MB/s eta 0:00:02\n",
      "   ------------------------ --------------- 28.2/46.2 MB 18.7 MB/s eta 0:00:01\n",
      "   ------------------------- -------------- 29.2/46.2 MB 19.3 MB/s eta 0:00:01\n",
      "   -------------------------- ------------- 30.1/46.2 MB 19.3 MB/s eta 0:00:01\n",
      "   --------------------------- ------------ 31.2/46.2 MB 19.2 MB/s eta 0:00:01\n",
      "   --------------------------- ------------ 32.1/46.2 MB 19.2 MB/s eta 0:00:01\n",
      "   ---------------------------- ----------- 32.9/46.2 MB 19.3 MB/s eta 0:00:01\n",
      "   ----------------------------- ---------- 33.8/46.2 MB 19.3 MB/s eta 0:00:01\n",
      "   ------------------------------ --------- 34.8/46.2 MB 19.3 MB/s eta 0:00:01\n",
      "   ------------------------------ --------- 35.6/46.2 MB 19.3 MB/s eta 0:00:01\n",
      "   ------------------------------ --------- 35.8/46.2 MB 17.7 MB/s eta 0:00:01\n",
      "   ------------------------------- -------- 36.7/46.2 MB 17.7 MB/s eta 0:00:01\n",
      "   -------------------------------- ------- 37.7/46.2 MB 18.7 MB/s eta 0:00:01\n",
      "   -------------------------------- ------- 38.0/46.2 MB 18.2 MB/s eta 0:00:01\n",
      "   -------------------------------- ------- 38.0/46.2 MB 18.2 MB/s eta 0:00:01\n",
      "   -------------------------------- ------- 38.0/46.2 MB 14.6 MB/s eta 0:00:01\n",
      "   -------------------------------- ------- 38.0/46.2 MB 14.6 MB/s eta 0:00:01\n",
      "   -------------------------------- ------- 38.0/46.2 MB 11.9 MB/s eta 0:00:01\n",
      "   -------------------------------- ------- 38.0/46.2 MB 11.9 MB/s eta 0:00:01\n",
      "   -------------------------------- ------- 38.0/46.2 MB 10.6 MB/s eta 0:00:01\n",
      "   -------------------------------- ------- 38.0/46.2 MB 10.6 MB/s eta 0:00:01\n",
      "   -------------------------------- ------- 38.0/46.2 MB 9.5 MB/s eta 0:00:01\n",
      "   -------------------------------- ------- 38.0/46.2 MB 9.5 MB/s eta 0:00:01\n",
      "   -------------------------------- ------- 38.0/46.2 MB 9.5 MB/s eta 0:00:01\n",
      "   -------------------------------- ------- 38.0/46.2 MB 8.4 MB/s eta 0:00:01\n",
      "   -------------------------------- ------- 38.0/46.2 MB 8.4 MB/s eta 0:00:01\n",
      "   -------------------------------- ------- 38.0/46.2 MB 8.4 MB/s eta 0:00:01\n",
      "   -------------------------------- ------- 38.0/46.2 MB 8.4 MB/s eta 0:00:01\n",
      "   -------------------------------- ------- 38.0/46.2 MB 7.0 MB/s eta 0:00:02\n",
      "   -------------------------------- ------- 38.0/46.2 MB 7.0 MB/s eta 0:00:02\n",
      "   ---------------------------------- ----- 39.3/46.2 MB 6.8 MB/s eta 0:00:02\n",
      "   -------------------------------------- - 44.4/46.2 MB 7.9 MB/s eta 0:00:01\n",
      "   ---------------------------------------  46.2/46.2 MB 8.7 MB/s eta 0:00:01\n",
      "   ---------------------------------------  46.2/46.2 MB 8.7 MB/s eta 0:00:01\n",
      "   ---------------------------------------  46.2/46.2 MB 8.7 MB/s eta 0:00:01\n",
      "   ---------------------------------------  46.2/46.2 MB 8.7 MB/s eta 0:00:01\n",
      "   ---------------------------------------  46.2/46.2 MB 8.7 MB/s eta 0:00:01\n",
      "   ---------------------------------------  46.2/46.2 MB 8.7 MB/s eta 0:00:01\n",
      "   ---------------------------------------  46.2/46.2 MB 8.7 MB/s eta 0:00:01\n",
      "   ---------------------------------------  46.2/46.2 MB 8.7 MB/s eta 0:00:01\n",
      "   ---------------------------------------  46.2/46.2 MB 8.7 MB/s eta 0:00:01\n",
      "   ---------------------------------------  46.2/46.2 MB 8.7 MB/s eta 0:00:01\n",
      "   ---------------------------------------  46.2/46.2 MB 8.7 MB/s eta 0:00:01\n",
      "   ---------------------------------------  46.2/46.2 MB 8.7 MB/s eta 0:00:01\n",
      "   ---------------------------------------  46.2/46.2 MB 8.7 MB/s eta 0:00:01\n",
      "   ---------------------------------------  46.2/46.2 MB 8.7 MB/s eta 0:00:01\n",
      "   ---------------------------------------  46.2/46.2 MB 8.7 MB/s eta 0:00:01\n",
      "   ---------------------------------------  46.2/46.2 MB 8.7 MB/s eta 0:00:01\n",
      "   ---------------------------------------  46.2/46.2 MB 8.7 MB/s eta 0:00:01\n",
      "   ---------------------------------------  46.2/46.2 MB 8.7 MB/s eta 0:00:01\n",
      "   ---------------------------------------  46.2/46.2 MB 8.7 MB/s eta 0:00:01\n",
      "   ---------------------------------------  46.2/46.2 MB 8.7 MB/s eta 0:00:01\n",
      "   ---------------------------------------  46.2/46.2 MB 8.7 MB/s eta 0:00:01\n",
      "   ---------------------------------------  46.2/46.2 MB 8.7 MB/s eta 0:00:01\n",
      "   ---------------------------------------  46.2/46.2 MB 8.7 MB/s eta 0:00:01\n",
      "   ---------------------------------------  46.2/46.2 MB 8.7 MB/s eta 0:00:01\n",
      "   ---------------------------------------  46.2/46.2 MB 8.7 MB/s eta 0:00:01\n",
      "   ---------------------------------------  46.2/46.2 MB 8.7 MB/s eta 0:00:01\n",
      "   ---------------------------------------  46.2/46.2 MB 8.7 MB/s eta 0:00:01\n",
      "   ---------------------------------------  46.2/46.2 MB 8.7 MB/s eta 0:00:01\n",
      "   ---------------------------------------  46.2/46.2 MB 8.7 MB/s eta 0:00:01\n",
      "   ---------------------------------------  46.2/46.2 MB 8.7 MB/s eta 0:00:01\n",
      "   ---------------------------------------  46.2/46.2 MB 8.7 MB/s eta 0:00:01\n",
      "   ---------------------------------------  46.2/46.2 MB 8.7 MB/s eta 0:00:01\n",
      "   ---------------------------------------  46.2/46.2 MB 8.7 MB/s eta 0:00:01\n",
      "   ---------------------------------------- 46.2/46.2 MB 3.4 MB/s eta 0:00:00\n",
      "Downloading gradio_client-1.8.0-py3-none-any.whl (322 kB)\n",
      "   ---------------------------------------- 0.0/322.2 kB ? eta -:--:--\n",
      "   --------------------------------------- 322.2/322.2 kB 10.1 MB/s eta 0:00:00\n",
      "Downloading aiofiles-23.2.1-py3-none-any.whl (15 kB)\n",
      "Downloading fastapi-0.115.11-py3-none-any.whl (94 kB)\n",
      "   ---------------------------------------- 0.0/94.9 kB ? eta -:--:--\n",
      "   ---------------------------------------- 94.9/94.9 kB 5.3 MB/s eta 0:00:00\n",
      "Downloading groovy-0.1.2-py3-none-any.whl (14 kB)\n",
      "Downloading huggingface_hub-0.29.3-py3-none-any.whl (468 kB)\n",
      "   ---------------------------------------- 0.0/469.0 kB ? eta -:--:--\n",
      "   --------------------------------------  460.8/469.0 kB 14.1 MB/s eta 0:00:01\n",
      "   ---------------------------------------- 469.0/469.0 kB 9.8 MB/s eta 0:00:00\n",
      "Downloading orjson-3.10.15-cp312-cp312-win_amd64.whl (133 kB)\n",
      "   ---------------------------------------- 0.0/133.7 kB ? eta -:--:--\n",
      "   ---------------------------------------- 133.7/133.7 kB 8.2 MB/s eta 0:00:00\n",
      "Downloading python_multipart-0.0.20-py3-none-any.whl (24 kB)\n",
      "Downloading ruff-0.11.2-py3-none-win_amd64.whl (11.4 MB)\n",
      "   ---------------------------------------- 0.0/11.4 MB ? eta -:--:--\n",
      "   -- ------------------------------------- 0.7/11.4 MB 15.5 MB/s eta 0:00:01\n",
      "   ----- ---------------------------------- 1.5/11.4 MB 15.5 MB/s eta 0:00:01\n",
      "   ------- -------------------------------- 2.2/11.4 MB 15.8 MB/s eta 0:00:01\n",
      "   --------- ------------------------------ 2.8/11.4 MB 15.1 MB/s eta 0:00:01\n",
      "   ------------ --------------------------- 3.5/11.4 MB 14.7 MB/s eta 0:00:01\n",
      "   -------------- ------------------------- 4.2/11.4 MB 14.9 MB/s eta 0:00:01\n",
      "   ----------------- ---------------------- 4.9/11.4 MB 13.7 MB/s eta 0:00:01\n",
      "   ------------------- -------------------- 5.5/11.4 MB 13.5 MB/s eta 0:00:01\n",
      "   -------------------- ------------------- 5.9/11.4 MB 13.0 MB/s eta 0:00:01\n",
      "   ---------------------- ----------------- 6.4/11.4 MB 12.7 MB/s eta 0:00:01\n",
      "   ----------------------- ---------------- 6.8/11.4 MB 12.1 MB/s eta 0:00:01\n",
      "   -------------------------- ------------- 7.4/11.4 MB 12.5 MB/s eta 0:00:01\n",
      "   ---------------------------- ----------- 8.2/11.4 MB 12.8 MB/s eta 0:00:01\n",
      "   ------------------------------ --------- 8.7/11.4 MB 12.7 MB/s eta 0:00:01\n",
      "   --------------------------------- ------ 9.6/11.4 MB 13.1 MB/s eta 0:00:01\n",
      "   ------------------------------------ --- 10.4/11.4 MB 13.4 MB/s eta 0:00:01\n",
      "   -------------------------------------- - 11.0/11.4 MB 13.4 MB/s eta 0:00:01\n",
      "   ---------------------------------------  11.4/11.4 MB 13.1 MB/s eta 0:00:01\n",
      "   ---------------------------------------  11.4/11.4 MB 13.1 MB/s eta 0:00:01\n",
      "   ---------------------------------------  11.4/11.4 MB 13.1 MB/s eta 0:00:01\n",
      "   ---------------------------------------  11.4/11.4 MB 13.1 MB/s eta 0:00:01\n",
      "   ---------------------------------------  11.4/11.4 MB 13.1 MB/s eta 0:00:01\n",
      "   ---------------------------------------  11.4/11.4 MB 13.1 MB/s eta 0:00:01\n",
      "   ---------------------------------------  11.4/11.4 MB 13.1 MB/s eta 0:00:01\n",
      "   ---------------------------------------- 11.4/11.4 MB 8.7 MB/s eta 0:00:00\n",
      "Downloading safehttpx-0.1.6-py3-none-any.whl (8.7 kB)\n",
      "Downloading semantic_version-2.10.0-py2.py3-none-any.whl (15 kB)\n",
      "Downloading starlette-0.46.1-py3-none-any.whl (71 kB)\n",
      "   ---------------------------------------- 0.0/72.0 kB ? eta -:--:--\n",
      "   ---------------------------------------- 72.0/72.0 kB 3.9 MB/s eta 0:00:00\n",
      "Downloading tomlkit-0.13.2-py3-none-any.whl (37 kB)\n",
      "Downloading typer-0.15.2-py3-none-any.whl (45 kB)\n",
      "   ---------------------------------------- 0.0/45.1 kB ? eta -:--:--\n",
      "   ---------------------------------------- 45.1/45.1 kB 2.3 MB/s eta 0:00:00\n",
      "Downloading uvicorn-0.34.0-py3-none-any.whl (62 kB)\n",
      "   ---------------------------------------- 0.0/62.3 kB ? eta -:--:--\n",
      "   ---------------------------------------- 62.3/62.3 kB 3.5 MB/s eta 0:00:00\n",
      "Downloading ffmpy-0.5.0-py3-none-any.whl (6.0 kB)\n",
      "Downloading pydub-0.25.1-py2.py3-none-any.whl (32 kB)\n",
      "Downloading shellingham-1.5.4-py2.py3-none-any.whl (9.8 kB)\n",
      "Downloading websockets-15.0.1-cp312-cp312-win_amd64.whl (176 kB)\n",
      "   ---------------------------------------- 0.0/176.8 kB ? eta -:--:--\n",
      "   --------------------------------------- 176.8/176.8 kB 10.4 MB/s eta 0:00:00\n",
      "Installing collected packages: pydub, websockets, tomlkit, shellingham, semantic-version, ruff, python-multipart, orjson, groovy, ffmpy, aiofiles, uvicorn, starlette, huggingface-hub, typer, safehttpx, gradio-client, fastapi, gradio\n",
      "  Attempting uninstall: tomlkit\n",
      "    Found existing installation: tomlkit 0.11.1\n",
      "    Uninstalling tomlkit-0.11.1:\n",
      "      Successfully uninstalled tomlkit-0.11.1\n",
      "Successfully installed aiofiles-23.2.1 fastapi-0.115.11 ffmpy-0.5.0 gradio-5.22.0 gradio-client-1.8.0 groovy-0.1.2 huggingface-hub-0.29.3 orjson-3.10.15 pydub-0.25.1 python-multipart-0.0.20 ruff-0.11.2 safehttpx-0.1.6 semantic-version-2.10.0 shellingham-1.5.4 starlette-0.46.1 tomlkit-0.13.2 typer-0.15.2 uvicorn-0.34.0 websockets-15.0.1\n"
     ]
    }
   ],
   "source": [
    "!pip install gradio\n",
    "# Import pandas\n",
    "import pandas as pd\n",
    "# Import the required dependencies from sklearn\n",
    "from sklearn.model_selection import train_test_split\n",
    "from sklearn.pipeline import Pipeline\n",
    "from sklearn.feature_extraction.text import TfidfVectorizer\n",
    "from sklearn.svm import LinearSVC\n",
    "\n",
    "# Set the column width to view the text message data.\n",
    "pd.set_option('max_colwidth', 200)\n",
    "\n",
    "# Import Gradio\n",
    "import gradio as gr"
   ]
  },
  {
   "cell_type": "code",
   "execution_count": 3,
   "metadata": {
    "executionInfo": {
     "elapsed": 16,
     "status": "ok",
     "timestamp": 1742764843321,
     "user": {
      "displayName": "Luther Johnson",
      "userId": "12755746295002197242"
     },
     "user_tz": 300
    },
    "id": "kwgwZmEtvvEi"
   },
   "outputs": [],
   "source": [
    "def sms_classification(sms_text_df):\n",
    "    \"\"\"\n",
    "    Perform SMS classification using a pipeline with TF-IDF vectorization and Linear Support Vector Classification.\n",
    "\n",
    "    Parameters:\n",
    "    - sms_text_df (pd.DataFrame): DataFrame containing 'text_message' and 'label' columns for SMS classification.\n",
    "\n",
    "    Returns:\n",
    "    - text_clf (Pipeline): Fitted pipeline model for SMS classification.\n",
    "\n",
    "    This function takes a DataFrame with 'text_message' and 'label' columns, splits the data into\n",
    "    training and testing sets, builds a pipeline with TF-IDF vectorization and Linear Support Vector\n",
    "    Classification, and fits the model to the training data.\n",
    "    The fitted pipeline is returned to make future predictions.\n",
    "    \"\"\"\n",
    "    # Set the features variable to the text message column.\n",
    "    X = sms_text_df['text_message']\n",
    "    # Set the target variable to the \"label\" column.\n",
    "    y = sms_text_df['label']\n",
    "\n",
    "    # Split data into training and testing and set the test_size = 33%\n",
    "    X_train, X_test, y_train, y_test = train_test_split(X, y, test_size=0.33, random_state=42)\n",
    "\n",
    "    # Build a pipeline to transform the test set to compare to the training set.\n",
    "    text_clf = Pipeline([\n",
    "        ('tfidf', TfidfVectorizer()),\n",
    "        ('clf', LinearSVC())\n",
    "    ])\n",
    "\n",
    "    # Fit the model to the transformed training data and return model.\n",
    "    text_clf.fit(X_train, y_train)\n",
    "    return text_clf"
   ]
  },
  {
   "cell_type": "code",
   "execution_count": 4,
   "metadata": {
    "colab": {
     "base_uri": "https://localhost:8080/",
     "height": 333
    },
    "executionInfo": {
     "elapsed": 62,
     "status": "error",
     "timestamp": 1742765035301,
     "user": {
      "displayName": "Luther Johnson",
      "userId": "12755746295002197242"
     },
     "user_tz": 300
    },
    "id": "3IldvKtRvvEj",
    "outputId": "e06994af-4d92-4d3f-9fb2-96b27d111125"
   },
   "outputs": [],
   "source": [
    "# Load the dataset into a DataFrame\n",
    "sms_df = pd.read_csv('Resources/SMSSpamCollection.csv')"
   ]
  },
  {
   "cell_type": "code",
   "execution_count": 5,
   "metadata": {
    "colab": {
     "base_uri": "https://localhost:8080/",
     "height": 182
    },
    "executionInfo": {
     "elapsed": 60,
     "status": "error",
     "timestamp": 1742764806598,
     "user": {
      "displayName": "Luther Johnson",
      "userId": "12755746295002197242"
     },
     "user_tz": 300
    },
    "id": "c7PzgF2mvvEj",
    "outputId": "88e8563a-7a20-44f7-f9f1-2423f360c45c"
   },
   "outputs": [
    {
     "name": "stderr",
     "output_type": "stream",
     "text": [
      "c:\\Users\\Owner\\anaconda3\\Lib\\site-packages\\sklearn\\svm\\_classes.py:31: FutureWarning: The default value of `dual` will change from `True` to `'auto'` in 1.5. Set the value of `dual` explicitly to suppress the warning.\n",
      "  warnings.warn(\n"
     ]
    }
   ],
   "source": [
    "# Call the sms_classification function with the DataFrame and set the result to the \"text_clf\" variable\n",
    "text_clf = sms_classification(sms_df)\n"
   ]
  },
  {
   "cell_type": "code",
   "execution_count": 7,
   "metadata": {
    "id": "QlQss-GnvvEk"
   },
   "outputs": [],
   "source": [
    "# Create a function called `sms_prediction` that takes in the SMS text and predicts the whether the text is \"not spam\" or \"spam\".\n",
    "# The function should return the SMS message, and say whether the text is \"not spam\" or \"spam\".\n",
    "def sms_prediction(text):\n",
    "    \"\"\"\n",
    "    Predict the spam/ham classification of a given text message using a pre-trained model.\n",
    "\n",
    "    Parameters:\n",
    "    - text (str): The text message to be classified.\n",
    "\n",
    "    Returns:\n",
    "    - str: A message indicating whether the text message is classified as spam or not.\n",
    "\n",
    "    This function takes a text message and a pre-trained pipeline model, then predicts the\n",
    "    spam/ham classification of the text. The result is a message stating whether the text is\n",
    "    classified as spam or not.\n",
    "    \"\"\"\n",
    "    # Create a variable that will hold the prediction of a new text.\n",
    "    prediction = text_clf.predict([text])[0]\n",
    "    # Using a conditional if the prediction is \"ham\" return the message:\n",
    "    # f'The text message: \"{text}\", is not spam.' Else, return f'The text message: \"{text}\", is spam.'\n",
    "    return f'The text message: \"{text}\", is not spam.' if prediction == 'ham' else f'The text message: \"{text}\", is spam.'"
   ]
  },
  {
   "cell_type": "code",
   "execution_count": 8,
   "metadata": {
    "id": "9LUaM00zvvEk",
    "outputId": "cf81a1ec-5f27-4545-b404-c624ae8cb198"
   },
   "outputs": [
    {
     "name": "stdout",
     "output_type": "stream",
     "text": [
      "* Running on local URL:  http://127.0.0.1:7860\n",
      "\n",
      "To create a public link, set `share=True` in `launch()`.\n"
     ]
    },
    {
     "data": {
      "text/html": [
       "<div><iframe src=\"http://127.0.0.1:7860/\" width=\"100%\" height=\"500\" allow=\"autoplay; camera; microphone; clipboard-read; clipboard-write;\" frameborder=\"0\" allowfullscreen></iframe></div>"
      ],
      "text/plain": [
       "<IPython.core.display.HTML object>"
      ]
     },
     "metadata": {},
     "output_type": "display_data"
    },
    {
     "data": {
      "text/plain": []
     },
     "execution_count": 8,
     "metadata": {},
     "output_type": "execute_result"
    },
    {
     "name": "stdout",
     "output_type": "stream",
     "text": [
      "Created dataset file at: .gradio\\flagged\\dataset1.csv\n"
     ]
    }
   ],
   "source": [
    "# Create a sms_app that takes a textbox for the inputs and has a textbox for the output.\n",
    "# Povide labels for each textbox.\n",
    "sms_app = gr.Interface(\n",
    "    fn=sms_prediction,\n",
    "    inputs=gr.Textbox(label=\"Enter SMS Text\"),\n",
    "    outputs=gr.Textbox(label=\"Prediction Result\"),\n",
    "    title=\"SMS Spam Classifier\",\n",
    "    description=\"Enter an SMS message to check if it is spam or not.\"\n",
    ")\n",
    "\n",
    "# Launch the app.\n",
    "sms_app.launch()"
   ]
  },
  {
   "cell_type": "markdown",
   "metadata": {
    "id": "s8_9qnLzvvEk"
   },
   "source": [
    "## Test the following text messages.\n",
    "\n",
    "---\n",
    "\n",
    "1. You are a lucky winner of $5000!\n",
    "2. You won 2 free tickets to the Super Bowl.\n",
    "3. You won 2 free tickets to the Super Bowl text us to claim your prize.\n",
    "4. Thanks for registering. Text 4343 to receive free updates on medicare."
   ]
  },
  {
   "cell_type": "code",
   "execution_count": null,
   "metadata": {
    "id": "7PVr4kJ5vvEl"
   },
   "outputs": [],
   "source": []
  }
 ],
 "metadata": {
  "colab": {
   "provenance": []
  },
  "kernelspec": {
   "display_name": "base",
   "language": "python",
   "name": "python3"
  },
  "language_info": {
   "codemirror_mode": {
    "name": "ipython",
    "version": 3
   },
   "file_extension": ".py",
   "mimetype": "text/x-python",
   "name": "python",
   "nbconvert_exporter": "python",
   "pygments_lexer": "ipython3",
   "version": "3.12.4"
  }
 },
 "nbformat": 4,
 "nbformat_minor": 0
}
